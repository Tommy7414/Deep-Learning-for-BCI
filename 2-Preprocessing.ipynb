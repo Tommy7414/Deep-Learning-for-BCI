{
 "cells": [
  {
   "cell_type": "markdown",
   "metadata": {},
   "source": [
    "<br/><font size=10>Preprocessing</font><br/>"
   ]
  },
  {
   "cell_type": "markdown",
   "metadata": {
    "toc": true
   },
   "source": [
    "<h1>Table of Contents<span class=\"tocSkip\"></span></h1>\n",
    "<div class=\"toc\"><ul class=\"toc-item\"><li><span><a href=\"#Data-segmentation\" data-toc-modified-id=\"Data-segmentation-1\"><span class=\"toc-item-num\">1&nbsp;&nbsp;</span>Data segmentation</a></span></li><li><span><a href=\"#Spliting-training-and-test-data\" data-toc-modified-id=\"Spliting-training-and-test-data-2\"><span class=\"toc-item-num\">2&nbsp;&nbsp;</span>Spliting training and test data</a></span></li><li><span><a href=\"#Normalization\" data-toc-modified-id=\"Normalization-3\"><span class=\"toc-item-num\">3&nbsp;&nbsp;</span>Normalization</a></span><ul class=\"toc-item\"><li><span><a href=\"#Z-score-normalization\" data-toc-modified-id=\"Z-score-normalization-3.1\"><span class=\"toc-item-num\">3.1&nbsp;&nbsp;</span>Z-score normalization</a></span></li><li><span><a href=\"#Uniform-normalization-(L1)\" data-toc-modified-id=\"Uniform-normalization-(L1)-3.2\"><span class=\"toc-item-num\">3.2&nbsp;&nbsp;</span>Uniform normalization (L1)</a></span></li><li><span><a href=\"#Min-max-normalization\" data-toc-modified-id=\"Min-max-normalization-3.3\"><span class=\"toc-item-num\">3.3&nbsp;&nbsp;</span>Min-max normalization</a></span></li></ul></li><li><span><a href=\"#Reference\" data-toc-modified-id=\"Reference-4\"><span class=\"toc-item-num\">4&nbsp;&nbsp;</span>Reference</a></span></li></ul></div>"
   ]
  },
  {
   "cell_type": "markdown",
   "metadata": {},
   "source": [
    "# Data segmentation\n",
    "\n",
    "Next, we show how to segment the data stream. We take 0.1 second as an example of time window, therefore, each segment contains 16=0.6 $\\times$ 160 time steps as the sampling rate is 160 Hz. We set the overlapping rate as 50%, indicating there are 50% overlap between two adjacent segments. "
   ]
  },
  {
   "cell_type": "code",
   "execution_count": 1,
   "metadata": {},
   "outputs": [],
   "source": [
    "import numpy as np\n",
    "def extract(input, n_classes, n_fea, time_window, moving):\n",
    "    xx = input[:, :n_fea]\n",
    "    yy = input[:, n_fea:n_fea + 1]\n",
    "    new_x = []\n",
    "    new_y = []\n",
    "    number = int((xx.shape[0] / moving) - 1)\n",
    "    for i in range(number):\n",
    "        ave_y = np.average(yy[int(i * moving):int(i * moving + time_window)])\n",
    "        if ave_y in range(n_classes + 1): # 過濾不是整數的 label\n",
    "            new_x.append(xx[int(i * moving):int(i * moving + time_window), :]) # 在此注意 xx[:] 是 2D array，表示[ channel, time_window]\n",
    "            new_y.append(ave_y)\n",
    "        else:\n",
    "            new_x.append(xx[int(i * moving):int(i * moving + time_window), :])\n",
    "            new_y.append(0) # 有個潛在的問題是， 0 也是一種 label\n",
    "\n",
    "    new_x = np.array(new_x)\n",
    "    new_x = new_x.reshape([-1, n_fea * time_window])\n",
    "    new_y = np.array(new_y)\n",
    "    new_y.shape = [new_y.shape[0], 1]\n",
    "    data = np.hstack((new_x, new_y))\n",
    "    data = np.vstack((data, data[-1]))  # 把他加到變成偶數\n",
    "    return data"
   ]
  },
  {
   "cell_type": "markdown",
   "metadata": {},
   "source": [
    "259560/16 * 2 -1 + 1 = 32440"
   ]
  },
  {
   "cell_type": "code",
   "execution_count": 2,
   "metadata": {},
   "outputs": [
    {
     "name": "stdout",
     "output_type": "stream",
     "text": [
      "importing Jupyter notebook from BCI_functions.ipynb\n",
      "After segmentation, the shape of the data: (32440, 1025)\n"
     ]
    }
   ],
   "source": [
    "import numpy as np\n",
    "import myimporter\n",
    "from BCI_functions import *  # BCI_functions.ipynb contains some functions we might use multiple times in this tutorial\n",
    "\n",
    "dataset_1=np.load('1.npy')  # load data\n",
    "\n",
    "n_class = 10  # 0~9 classes ('10:rest' is not considered)\n",
    "no_feature = 64  # the number of the features（腦電極（腦區域）的數量）\n",
    "segment_length = 16  # selected time window; 16=160*0.1\n",
    "\n",
    "# segment data, check more details about the 'extract' function in BCI_functions.ipynb\n",
    "data_seg = extract(dataset_1, n_classes=n_class, n_fea=no_feature, time_window=segment_length, moving=(segment_length/2))  # 50% overlapping\n",
    "\n",
    "print('After segmentation, the shape of the data:', data_seg.shape)"
   ]
  },
  {
   "cell_type": "code",
   "execution_count": 3,
   "metadata": {},
   "outputs": [
    {
     "data": {
      "text/plain": [
       "array([[-16., -29.,   2., ...,  59.,  33.,   0.],\n",
       "       [-38., -20.,  16., ...,  43.,  56.,   0.],\n",
       "       [-14., -18.,  31., ..., -41., -25.,   0.],\n",
       "       ...,\n",
       "       [  0.,   0.,   0., ...,   0.,   0.,   9.],\n",
       "       [  0.,   0.,   0., ...,   0.,   0.,   9.],\n",
       "       [  0.,   0.,   0., ...,   0.,   0.,   9.]])"
      ]
     },
     "execution_count": 3,
     "metadata": {},
     "output_type": "execute_result"
    }
   ],
   "source": [
    "data_seg"
   ]
  },
  {
   "cell_type": "markdown",
   "metadata": {},
   "source": [
    "# Spliting training and test data\n",
    "\n",
    "直接用套件 sklearn 切 dataset\n",
    "\n",
    "In this part, we will show how to spliting the dataset into training data and test data. Just simply use the well-packed function from sklearn: https://scikit-learn.org/stable/. "
   ]
  },
  {
   "cell_type": "code",
   "execution_count": 4,
   "metadata": {},
   "outputs": [
    {
     "name": "stdout",
     "output_type": "stream",
     "text": [
      "The shape of training feature and label: (24330, 1024) (24330, 1) \n",
      "The shape of test feature and label: (8110, 1024) (8110, 1)\n"
     ]
    }
   ],
   "source": [
    "# First, we separate the features and the label \n",
    "\n",
    "data_seg_feature = data_seg[:, :1024] # 1024=64 個腦電極 * 16 個 time window\n",
    "data_seg_label = data_seg[:, 1024:1025] # 最後一個 column 是 label\n",
    "\n",
    "# split data\n",
    "from sklearn.model_selection import train_test_split\n",
    "train_feature, test_feature, train_label, test_label = train_test_split(data_seg_feature, data_seg_label, shuffle=True)\n",
    "print('The shape of training feature and label:', train_feature.shape, train_label.shape,\n",
    "     '\\nThe shape of test feature and label:', test_feature.shape, test_label.shape)"
   ]
  },
  {
   "cell_type": "code",
   "execution_count": 5,
   "metadata": {},
   "outputs": [
    {
     "data": {
      "text/plain": [
       "array([[0.],\n",
       "       [0.],\n",
       "       [0.],\n",
       "       ...,\n",
       "       [9.],\n",
       "       [9.],\n",
       "       [9.]])"
      ]
     },
     "execution_count": 5,
     "metadata": {},
     "output_type": "execute_result"
    }
   ],
   "source": [
    "data_seg_label "
   ]
  },
  {
   "cell_type": "markdown",
   "metadata": {},
   "source": [
    "# Normalization\n",
    "\n",
    "In this section, we introduce a number of commonly used normalization strategies including z-score, uniform, and min-max normalization.  \n",
    "The library we adopt in this part is scikit-learn, if you are new to this, please check more details from: https://scikit-learn.org/stable/modules/preprocessing.html\n",
    "\n",
    "* **Why we need normalization?**  \n",
    " It's important for some machine learning methods that all features are on the same scale (e.g., faster convergence in learning, more uniform influence for all weights), which may enable the model to achieve better results.\n",
    " \n",
    "* **Time-wise normalization vs. channel-wise normalization**  \n",
    " The time-wise normalization is to rescale data along the time-wise while the channel-wise is to rescale along the channel-wise to a consistent distribution. Normally, for EEG signals, we only focus on the time-wise normalization because of its high temporal resolution.     \n",
    " <font color=#FF0000> Take our data X of shape (n_samples, n_channels) as an example, time-wise normalization means scaling along the sample axis. </font>\n",
    " "
   ]
  },
  {
   "cell_type": "markdown",
   "metadata": {},
   "source": [
    "## Z-score normalization\n",
    "\n",
    "Z-score normalization (Standardization) gives you an idea of how far from the mean a data point is.   \n",
    "The equation for z-score normalization:\n",
    "$$x_i^{'}=\\frac{x_{i}-\\bar{x_{i}}}{\\sigma }$$\n"
   ]
  },
  {
   "cell_type": "code",
   "execution_count": 73,
   "metadata": {},
   "outputs": [
    {
     "name": "stdout",
     "output_type": "stream",
     "text": [
      "After normalization, the shape of training feature: (24330, 1024) \n",
      "After normalization, the shape of test feature: (8110, 1024)\n"
     ]
    }
   ],
   "source": [
    "from sklearn.preprocessing import StandardScaler \n",
    "scaler1 = StandardScaler().fit(train_feature)\n",
    "train_fea_norm1 = scaler1.transform(train_feature) # normalize the training data\n",
    "test_fea_norm1 = scaler1.transform(test_feature) # normalize the test data\n",
    "\n",
    "print('After normalization, the shape of training feature:', train_fea_norm1.shape,\n",
    "      '\\nAfter normalization, the shape of test feature:', test_fea_norm1.shape)"
   ]
  },
  {
   "cell_type": "markdown",
   "metadata": {},
   "source": [
    "## Uniform normalization (L1)"
   ]
  },
  {
   "cell_type": "markdown",
   "metadata": {},
   "source": [
    "For the uniform normalization, it process the dataset in a way that the sum of the absolute value of each column (in our case) to be one.   \n",
    "The equation for uniform normalization:\n",
    "$$x_i^{'}=\\frac{x_{i}}{\\sum x_{j}}$$\n",
    "\n",
    "* Note, in _sklearn.preprocessing.Normalizer_， the default normalization is L2, so remember to set the normalizer to L1 normalization (norm='l1') when you want to use uniform normalization.\n",
    "* Mind the axis in this one. The normalizer seems to be defaultly scale on the channel-wise axis, in this case, we have to transpose the data in order to get the correct normalization. "
   ]
  },
  {
   "cell_type": "code",
   "execution_count": 79,
   "metadata": {},
   "outputs": [
    {
     "name": "stdout",
     "output_type": "stream",
     "text": [
      "After normalization, the shape of training feature: (24330, 1024) \n",
      "After normalization, the shape of test feature: (8110, 1024)\n"
     ]
    }
   ],
   "source": [
    "from sklearn.preprocessing import Normalizer\n",
    "scaler2 = Normalizer(norm='l1').fit(train_feature)  \n",
    "train_fea_norm2 = scaler2.transform(train_feature) \n",
    "test_fea_norm2 = scaler2.transform(test_feature) \n",
    "\n",
    "print('After normalization, the shape of training feature:', train_fea_norm2.shape,\n",
    "      '\\nAfter normalization, the shape of test feature:', test_fea_norm2.shape)"
   ]
  },
  {
   "cell_type": "markdown",
   "metadata": {},
   "source": [
    "## Min-max normalization"
   ]
  },
  {
   "cell_type": "markdown",
   "metadata": {},
   "source": [
    "Min-max normalization is one of the most common ways to normalize data. For every feature, the minimum value of that feature gets transformed into a 0, the maximum value gets transformed into a 1, and every other value gets transformed into a decimal between 0 and 1.[<sup>1</sup>](#refer-anchor-1)   \n",
    "The equation for min-max normalization:  \n",
    "$$x_i^{'}=\\frac{x_{i}-x_{min}}{x_{max}-x_{min}}$$"
   ]
  },
  {
   "cell_type": "code",
   "execution_count": 80,
   "metadata": {},
   "outputs": [
    {
     "name": "stdout",
     "output_type": "stream",
     "text": [
      "After normalization, the shape of training feature: (24330, 1024) \n",
      "After normalization, the shape of test feature: (8110, 1024)\n"
     ]
    }
   ],
   "source": [
    "from sklearn.preprocessing import MinMaxScaler\n",
    "scaler3 = MinMaxScaler().fit(train_feature)\n",
    "train_fea_norm3 = scaler3.transform(train_feature)\n",
    "test_fea_norm3 = scaler3.transform(test_feature)\n",
    "\n",
    "print('After normalization, the shape of training feature:', train_fea_norm3.shape,\n",
    "      '\\nAfter normalization, the shape of test feature:', test_fea_norm3.shape)"
   ]
  },
  {
   "cell_type": "markdown",
   "metadata": {},
   "source": [
    "# Reference\n",
    "\n",
    "<div id=\"refer-anchor-1\"></div>\n",
    "\n",
    "- [1]  [Normalization](https://www.codecademy.com/articles/normalization#:~:text=Min%2Dmax%20normalization%20is%20one,decimal%20between%200%20and%201.&text=That%20data%20is%20just%20as%20squished%20as%20before!)"
   ]
  }
 ],
 "metadata": {
  "kernelspec": {
   "display_name": "Python 3",
   "language": "python",
   "name": "python3"
  },
  "language_info": {
   "codemirror_mode": {
    "name": "ipython",
    "version": 3
   },
   "file_extension": ".py",
   "mimetype": "text/x-python",
   "name": "python",
   "nbconvert_exporter": "python",
   "pygments_lexer": "ipython3",
   "version": "3.9.6"
  },
  "toc": {
   "base_numbering": 1,
   "nav_menu": {},
   "number_sections": true,
   "sideBar": true,
   "skip_h1_title": false,
   "title_cell": "Table of Contents",
   "title_sidebar": "Contents",
   "toc_cell": true,
   "toc_position": {},
   "toc_section_display": true,
   "toc_window_display": false
  }
 },
 "nbformat": 4,
 "nbformat_minor": 4
}
